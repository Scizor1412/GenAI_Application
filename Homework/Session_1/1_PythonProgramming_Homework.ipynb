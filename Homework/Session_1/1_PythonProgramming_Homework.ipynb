{
  "cells": [
    {
      "cell_type": "markdown",
      "metadata": {
        "id": "DIHw5MQJDS4-"
      },
      "source": [
        "# 1. Data Structure (mỗi câu 0.5)\n",
        "\n",
        "Cho một dictionary gồm tên và điểm số."
      ]
    },
    {
      "cell_type": "code",
      "execution_count": 2,
      "metadata": {
        "id": "DxxhVWlqDcap"
      },
      "outputs": [],
      "source": [
        "points = {'an': 9, 'binh': 7, 'khanh': 8, 'linh': 10, 'huyen': 6}"
      ]
    },
    {
      "cell_type": "markdown",
      "metadata": {
        "id": "i-6mwO4zD2it"
      },
      "source": [
        "1. Hãy sắp xếp dictionary trên theo điểm số tăng dần.\n",
        "2. Hãy tạo một dictionary có key là điểm số và giá trị là tên."
      ]
    },
    {
      "cell_type": "code",
      "execution_count": 4,
      "metadata": {
        "id": "zT43Ew17Ov3g"
      },
      "outputs": [
        {
          "name": "stdout",
          "output_type": "stream",
          "text": [
            "{9: 'an', 7: 'binh', 8: 'khanh', 10: 'linh', 6: 'huyen'}\n"
          ]
        }
      ],
      "source": [
        "# 1. Sort the dictionary by points\n",
        "{k: v for k, v in sorted(points.items(), key=lambda item: item[1])}"
      ]
    },
    {
      "cell_type": "code",
      "execution_count": 5,
      "metadata": {},
      "outputs": [
        {
          "name": "stdout",
          "output_type": "stream",
          "text": [
            "{9: 'an', 7: 'binh', 8: 'khanh', 10: 'linh', 6: 'huyen'}\n"
          ]
        }
      ],
      "source": [
        "# 2. Create a dictionary with key is the point and value is the student name\n",
        "result = {}\n",
        "for k, v in points.items():\n",
        "    result[v] = k\n",
        "\n",
        "print(result)"
      ]
    },
    {
      "cell_type": "markdown",
      "metadata": {
        "id": "O3LkW11f2iuk"
      },
      "source": [
        "Cho câu văn sau:\n",
        "\n",
        "`vi mot cong dong AI vung vung manh manh hon`"
      ]
    },
    {
      "cell_type": "markdown",
      "metadata": {
        "id": "vXu9wuUIEbO8"
      },
      "source": [
        "3. Phân tách câu văn trên thành một list theo khoảng trắng.\n",
        "4. Tìm các giá trị duy nhất của list đó.\n",
        "5. Đếm số lần lặp lại của mỗi phần tử trong list.\n",
        "6. Xóa các phần tử trong list mà có chữ cái bắt đầu là `v`.\n",
        "\n",
        "7. Đảo ngược vị trí các phần tử trong list."
      ]
    },
    {
      "cell_type": "code",
      "execution_count": 7,
      "metadata": {},
      "outputs": [],
      "source": [
        "a = \"vi mot cong dong AI vung vung manh manh hon\""
      ]
    },
    {
      "cell_type": "code",
      "execution_count": 10,
      "metadata": {},
      "outputs": [
        {
          "data": {
            "text/plain": [
              "['vi', 'mot', 'cong', 'dong', 'AI', 'vung', 'vung', 'manh', 'manh', 'hon']"
            ]
          },
          "execution_count": 10,
          "metadata": {},
          "output_type": "execute_result"
        }
      ],
      "source": [
        "# 3. Split the sentence to list with space as delimiter\n",
        "stringList = a.split(\" \")\n",
        "\n",
        "stringList"
      ]
    },
    {
      "cell_type": "code",
      "execution_count": 11,
      "metadata": {},
      "outputs": [
        {
          "data": {
            "text/plain": [
              "{'AI', 'cong', 'dong', 'hon', 'manh', 'mot', 'vi', 'vung'}"
            ]
          },
          "execution_count": 11,
          "metadata": {},
          "output_type": "execute_result"
        }
      ],
      "source": [
        "# 4. Find unique values\n",
        "uniqueList = set(stringList)\n",
        "\n",
        "uniqueList"
      ]
    },
    {
      "cell_type": "code",
      "execution_count": 14,
      "metadata": {},
      "outputs": [
        {
          "name": "stdout",
          "output_type": "stream",
          "text": [
            "{'vi': 1, 'mot': 1, 'cong': 1, 'dong': 1, 'AI': 1, 'vung': 2, 'manh': 2, 'hon': 1}\n"
          ]
        }
      ],
      "source": [
        "# 5. count time of occurences of each element in the list\n",
        "countResult = {}\n",
        "for i in stringList:\n",
        "    countResult[i] = countResult.get(i, 0) + 1\n",
        "\n",
        "countResult"
      ]
    },
    {
      "cell_type": "code",
      "execution_count": 17,
      "metadata": {},
      "outputs": [
        {
          "data": {
            "text/plain": [
              "['mot', 'cong', 'dong', 'AI', 'manh', 'manh', 'hon']"
            ]
          },
          "execution_count": 17,
          "metadata": {},
          "output_type": "execute_result"
        }
      ],
      "source": [
        "# 6. remove elements starts with v\n",
        "noVList = [i for i in stringList if not i.startswith('v')]\n",
        "\n",
        "noVList"
      ]
    },
    {
      "cell_type": "code",
      "execution_count": 20,
      "metadata": {},
      "outputs": [
        {
          "data": {
            "text/plain": [
              "['hon', 'manh', 'manh', 'vung', 'vung', 'AI', 'dong', 'cong', 'mot', 'vi']"
            ]
          },
          "execution_count": 20,
          "metadata": {},
          "output_type": "execute_result"
        }
      ],
      "source": [
        "# 7. reverse list order\n",
        "stringList.reverse()\n",
        "\n",
        "stringList"
      ]
    },
    {
      "cell_type": "markdown",
      "metadata": {
        "id": "S4AeWcFTFMpb"
      },
      "source": [
        "8. (1.5 điểm) Viết một trò chơi dự đoán chữ số may mắn có luật chơi như sau:\n",
        "\n",
        "Chương trình sẽ khởi tạo một chữ số ngẫu nhiên. Người chơi sẽ nhập 1 giá trị từ bàn phím. Nếu chữ số nhập vào bằng số ngẫu nhiên thì in ra `you are wined!` và kết thúc chương trình. Nếu số nhập vào lớn hơn số ngẫu nhiên thì in ra gợi ý `your guess should be less than {số vừa nhập}`. Nếu số nhập vào nhỏ hơn số ngẫu nhiên thì in ra gợi ý `your guess should be greater than {số vừa nhập}`. Số lượt chơi không được vượt quá 5.\n"
      ]
    },
    {
      "cell_type": "code",
      "execution_count": 29,
      "metadata": {},
      "outputs": [
        {
          "name": "stdout",
          "output_type": "stream",
          "text": [
            "Welcome the number guessing game!\n",
            "639\n",
            "Your number should be greater than 1\n",
            "639\n",
            "Your number should be greater than 2\n",
            "639\n",
            "Your number should be greater than 500\n",
            "639\n",
            "Your number should be greater than 600\n",
            "639\n",
            "You won!\n"
          ]
        }
      ],
      "source": [
        "# 8. Number guessing game\n",
        "from random import randint\n",
        "\n",
        "maxPlayCount = 5\n",
        "playCount = 0\n",
        "gameResult = randint(0, 1000)\n",
        "print('Welcome the number guessing game!')\n",
        "\n",
        "while playCount < maxPlayCount:\n",
        "    print(gameResult)\n",
        "    guess = input(f'You have {maxPlayCount - playCount} chances. Choose ur number: ')\n",
        "    if guess.isdigit():\n",
        "        guess = int(guess)\n",
        "        if guess > gameResult:\n",
        "            print(f'Your number should be less than {guess}')\n",
        "        elif guess < gameResult:\n",
        "            print(f'Your number should be greater than {guess}')\n",
        "        elif guess == gameResult:\n",
        "            print('You won!')\n",
        "            break\n",
        "    else:\n",
        "        print('Invalid input. Please input a number')\n",
        "    playCount += 1\n",
        "    if playCount == maxPlayCount:\n",
        "        print('You failed!')\n",
        "\n"
      ]
    },
    {
      "cell_type": "markdown",
      "metadata": {
        "id": "XMqXOsjiVXR9"
      },
      "source": [
        "# 2. Class and Module (mỗi câu 1 điểm)\n",
        "\n",
        "1. Hãy xây dựng một class AI với hai thuộc tính là algorithm (tên thuật toán) và model_type (dạng thuật toán dự báo hay phân loại) trong hàm tạo (_constructor_).\n",
        "\n",
        "2. Viết thêm hai phương thức cho class AI là `fit` (huấn luyện) với đầu vào là các tham số `model, X_train, y_train` và `predict` (dự báo) với đầu vào là các tham số `model, X_pred`. (Không cần phải lấy dữ liệu thật, chỉ cần print ra các đối số bên trong mỗi hàm).\n",
        "\n",
        "3. Khởi tạo object cho class AI và gọi các hàm phương thức vừa thêm mới trong câu lệnh `if __name__ == '__main__'`.\n",
        "\n",
        "4. Xây dựng một class DeepLearning kế thừa từ AI. Trong class này có một hàm mở rộng là `train_on_epoch` (huấn luyện trên từng epoch) với đầu vào là `model, X_train, y_train, epoch` và hàm viết đè là `fit` có thêm tham số `learning_rate`.\n",
        "\n",
        "5. Tổ chức project thành các module, những module này gồm các files:\n",
        "- `model.py`: chứa class `DeepLearning` và class `AI`.\n",
        "- `dataset.py`: chứa class `Dataset`, tự xây dựng hàm tạo cho class này với hai thuộc tính là `input_datas` và `labels`.\n",
        "- `train.py`: import hai class là `DeepLearning` và `Dataset` từ hai module `model.py` và `dataset.py`, khởi tạo các object của hai class này và sử dụng các hàm phương thức của nó."
      ]
    },
    {
      "cell_type": "code",
      "execution_count": null,
      "metadata": {},
      "outputs": [],
      "source": [
        "# 2. Class and Module (mỗi câu 1 điểm) is done in train.py file"
      ]
    }
  ],
  "metadata": {
    "colab": {
      "provenance": []
    },
    "kernelspec": {
      "display_name": "base",
      "language": "python",
      "name": "python3"
    },
    "language_info": {
      "codemirror_mode": {
        "name": "ipython",
        "version": 3
      },
      "file_extension": ".py",
      "mimetype": "text/x-python",
      "name": "python",
      "nbconvert_exporter": "python",
      "pygments_lexer": "ipython3",
      "version": "undefined.undefined.undefined"
    },
    "vscode": {
      "interpreter": {
        "hash": "ad2bdc8ecc057115af97d19610ffacc2b4e99fae6737bb82f5d7fb13d2f2c186"
      }
    }
  },
  "nbformat": 4,
  "nbformat_minor": 0
}
